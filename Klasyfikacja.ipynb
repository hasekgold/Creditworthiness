{
 "cells": [
  {
   "cell_type": "markdown",
   "metadata": {},
   "source": [
    "## Wczytanie i przetworzenie zbiorów danych"
   ]
  },
  {
   "cell_type": "code",
   "execution_count": 64,
   "metadata": {},
   "outputs": [],
   "source": [
    "import pandas as pd\n",
    "from sklearn.tree import DecisionTreeClassifier\n",
    "from sklearn.model_selection import train_test_split\n",
    "from sklearn.model_selection import GridSearchCV\n",
    "from sklearn.dummy import DummyClassifier\n",
    "from sklearn.ensemble import RandomForestClassifier\n",
    "import pandas_profiling\n",
    "import numpy as np"
   ]
  },
  {
   "cell_type": "code",
   "execution_count": 2,
   "metadata": {},
   "outputs": [],
   "source": [
    "nazwy_kolumn = ['A1', 'A2', 'A3', 'A4', 'A5', 'A6', 'A7', 'A8', 'A9', 'A10', 'A11', 'A12', 'A13', 'A14', 'A15', 'A16']\n",
    "dane = pd.read_csv('https://archive.ics.uci.edu/ml/machine-learning-databases/credit-screening/crx.data', names = nazwy_kolumn)"
   ]
  },
  {
   "cell_type": "code",
   "execution_count": 3,
   "metadata": {},
   "outputs": [],
   "source": [
    "pandas_profiling.ProfileReport(dane);"
   ]
  },
  {
   "cell_type": "code",
   "execution_count": 4,
   "metadata": {},
   "outputs": [],
   "source": [
    "for i in nazwy_kolumn:\n",
    "    dane[i]=dane[i].replace('?', -1)"
   ]
  },
  {
   "cell_type": "code",
   "execution_count": 5,
   "metadata": {},
   "outputs": [],
   "source": [
    "X = dane.drop('A16', axis = 1)\n",
    "y = dane['A16']\n",
    "\n",
    "y = y.factorize()[0]\n",
    "X['A1'] = X['A1'].factorize()[0]\n",
    "X['A4'] = X['A4'].factorize()[0]\n",
    "X['A5'] = X['A5'].factorize()[0]\n",
    "X['A6'] = X['A6'].factorize()[0]\n",
    "X['A7'] = X['A7'].factorize()[0]\n",
    "X['A9'] = X['A9'].factorize()[0]\n",
    "X['A10'] = X['A10'].factorize()[0]\n",
    "X['A12'] = X['A12'].factorize()[0]\n",
    "X['A13'] = X['A13'].factorize()[0]\n",
    "X['A14'] = X['A14'].factorize()[0]"
   ]
  },
  {
   "cell_type": "code",
   "execution_count": 43,
   "metadata": {},
   "outputs": [],
   "source": [
    "X.head();"
   ]
  },
  {
   "cell_type": "markdown",
   "metadata": {},
   "source": [
    "## Trenowanie drzewa na pełnym zbiorze danych"
   ]
  },
  {
   "cell_type": "code",
   "execution_count": 45,
   "metadata": {},
   "outputs": [],
   "source": [
    "drzewo = DecisionTreeClassifier()\n",
    "drzewo.fit(X=X, y=y);"
   ]
  },
  {
   "cell_type": "code",
   "execution_count": 8,
   "metadata": {},
   "outputs": [
    {
     "data": {
      "text/plain": [
       "1.0"
      ]
     },
     "execution_count": 8,
     "metadata": {},
     "output_type": "execute_result"
    }
   ],
   "source": [
    "drzewo.score(X=X, y=y)"
   ]
  },
  {
   "cell_type": "markdown",
   "metadata": {},
   "source": [
    "## Trenowanie drzewa na zbiorach uczącym i testowym"
   ]
  },
  {
   "cell_type": "code",
   "execution_count": 38,
   "metadata": {},
   "outputs": [],
   "source": [
    "X_train, X_test, y_train, y_test = train_test_split(X, y, stratify=y, test_size=0.2, random_state=1)"
   ]
  },
  {
   "cell_type": "code",
   "execution_count": 39,
   "metadata": {},
   "outputs": [
    {
     "data": {
      "text/plain": [
       "DecisionTreeClassifier(class_weight=None, criterion='gini', max_depth=None,\n",
       "            max_features=None, max_leaf_nodes=None,\n",
       "            min_impurity_decrease=0.0, min_impurity_split=None,\n",
       "            min_samples_leaf=1, min_samples_split=2,\n",
       "            min_weight_fraction_leaf=0.0, presort=False, random_state=None,\n",
       "            splitter='best')"
      ]
     },
     "execution_count": 39,
     "metadata": {},
     "output_type": "execute_result"
    }
   ],
   "source": [
    "drzewo = DecisionTreeClassifier()\n",
    "drzewo.fit(X=X_train, y=y_train)"
   ]
  },
  {
   "cell_type": "code",
   "execution_count": 40,
   "metadata": {},
   "outputs": [
    {
     "data": {
      "text/plain": [
       "0.7971014492753623"
      ]
     },
     "execution_count": 40,
     "metadata": {},
     "output_type": "execute_result"
    }
   ],
   "source": [
    "drzewo.score(X=X_test, y=y_test)"
   ]
  },
  {
   "cell_type": "markdown",
   "metadata": {},
   "source": [
    "## Wybór najlepszych hiperparametrów drzewa"
   ]
  },
  {
   "cell_type": "code",
   "execution_count": 41,
   "metadata": {},
   "outputs": [
    {
     "name": "stdout",
     "output_type": "stream",
     "text": [
      "2\n",
      "3\n",
      "4\n",
      "5\n",
      "6\n",
      "7\n",
      "8\n",
      "9\n",
      "10\n",
      "11\n",
      "12\n",
      "13\n",
      "14\n",
      "0.8623188405797102\n",
      "{'wynik': 0.8623188405797102, 'max depth': 6, 'min_samples_split': 3, 'min_samples_leaf': 5, 'criterion': 'gini'}\n"
     ]
    }
   ],
   "source": [
    "wyniki = pd.DataFrame()\n",
    "najlepszy = 0\n",
    "\n",
    "for max_depth in range (2,15):\n",
    "    print(max_depth)\n",
    "    for min_samples_split in range(2,15):\n",
    "        for min_samples_leaf in range(1,15):\n",
    "            for criterion in ['entropy', 'gini']:\n",
    "                drzewo = DecisionTreeClassifier(max_depth = max_depth, min_samples_split=min_samples_split,\n",
    "                                               min_samples_leaf=min_samples_leaf, criterion = criterion)\n",
    "                drzewo.fit(X=X_train, y=y_train)\n",
    "                wynik = drzewo.score(X=X_test, y=y_test)\n",
    "                wyniki = wyniki.append({'wynik': wynik, \n",
    "                                        'max depth': max_depth, \n",
    "                                        'min_samples_split': min_samples_split,\n",
    "                                       'min_samples_leaf': min_samples_leaf, \n",
    "                                        'criterion': criterion}, ignore_index=True)\n",
    "                if najlepszy < wynik:\n",
    "                    najlepszy = wynik\n",
    "                    hiperparametry = {'wynik': wynik, \n",
    "                                        'max depth': max_depth, \n",
    "                                        'min_samples_split': min_samples_split,\n",
    "                                       'min_samples_leaf': min_samples_leaf, \n",
    "                                        'criterion': criterion}\n",
    "print(najlepszy)\n",
    "print(hiperparametry)\n"
   ]
  },
  {
   "cell_type": "markdown",
   "metadata": {},
   "source": [
    "## Ocena stabilności wyników drzewa i porównanie z DummyClassifier"
   ]
  },
  {
   "cell_type": "code",
   "execution_count": 49,
   "metadata": {},
   "outputs": [
    {
     "name": "stdout",
     "output_type": "stream",
     "text": [
      "    random_state  wynik_drzewo  wynik_dummy\n",
      "0            0.0      0.840580     0.485507\n",
      "1            1.0      0.847826     0.442029\n",
      "2            2.0      0.855072     0.500000\n",
      "3            3.0      0.818841     0.485507\n",
      "4            4.0      0.789855     0.543478\n",
      "5            5.0      0.905797     0.500000\n",
      "6            6.0      0.869565     0.528986\n",
      "7            7.0      0.847826     0.543478\n",
      "8            8.0      0.818841     0.514493\n",
      "9            9.0      0.833333     0.586957\n",
      "10          10.0      0.818841     0.500000\n",
      "11          11.0      0.826087     0.500000\n",
      "12          12.0      0.847826     0.471014\n",
      "13          13.0      0.869565     0.500000\n",
      "14          14.0      0.862319     0.485507\n",
      "15          15.0      0.913043     0.572464\n",
      "16          16.0      0.818841     0.500000\n",
      "17          17.0      0.862319     0.557971\n",
      "18          18.0      0.891304     0.572464\n",
      "19          19.0      0.833333     0.500000\n"
     ]
    }
   ],
   "source": [
    "wyniki = pd.DataFrame()\n",
    "\n",
    "for random_state in range(0,20):\n",
    "    X_train, X_test, y_train, y_test = train_test_split(X, y, stratify=y, test_size=0.2, random_state=random_state)\n",
    "    drzewo = DecisionTreeClassifier(max_depth=6, min_samples_split=3, min_samples_leaf=5, criterion='gini', random_state=1)\n",
    "    drzewo.fit(X=X_train, y=y_train)\n",
    "    wynik_drzewo = drzewo.score(X=X_test, y=y_test)\n",
    "    \n",
    "    dummy = DummyClassifier(strategy='stratified', random_state=1)\n",
    "    dummy.fit(X=X_train, y=y_train)\n",
    "    wynik_dummy = dummy.score(X=X_test, y=y_test)\n",
    "    \n",
    "    wyniki = wyniki.append({'random_state': random_state, 'wynik_drzewo': wynik_drzewo, 'wynik_dummy': wynik_dummy}, \n",
    "                           ignore_index=True)\n",
    "    \n",
    "\n",
    "print(wyniki)"
   ]
  },
  {
   "cell_type": "code",
   "execution_count": 62,
   "metadata": {},
   "outputs": [],
   "source": [
    "pandas_profiling.ProfileReport(wyniki);"
   ]
  },
  {
   "cell_type": "markdown",
   "metadata": {},
   "source": [
    "## Trenowanie lasu losowego"
   ]
  },
  {
   "cell_type": "code",
   "execution_count": 92,
   "metadata": {},
   "outputs": [
    {
     "data": {
      "text/plain": [
       "0.8840579710144928"
      ]
     },
     "execution_count": 92,
     "metadata": {},
     "output_type": "execute_result"
    }
   ],
   "source": [
    "X_train, X_test, y_train, y_test = train_test_split(X, y, stratify=y, test_size=0.2, random_state=1)\n",
    "\n",
    "a = int(np.round(np.round((np.sqrt(len(X.columns))))))\n",
    "\n",
    "las = RandomForestClassifier(max_depth=6, min_samples_split=3, min_samples_leaf=5, criterion='gini', random_state=1,\n",
    "                            bootstrap=True, max_features=a, n_estimators=100)\n",
    "\n",
    "las.fit(X=X_train, y=y_train)\n",
    "wynik = las.score(X=X_test, y=y_test)\n",
    "\n",
    "wynik"
   ]
  },
  {
   "cell_type": "code",
   "execution_count": null,
   "metadata": {},
   "outputs": [],
   "source": []
  }
 ],
 "metadata": {
  "kernelspec": {
   "display_name": "Python 3",
   "language": "python",
   "name": "python3"
  },
  "language_info": {
   "codemirror_mode": {
    "name": "ipython",
    "version": 3
   },
   "file_extension": ".py",
   "mimetype": "text/x-python",
   "name": "python",
   "nbconvert_exporter": "python",
   "pygments_lexer": "ipython3",
   "version": "3.7.1"
  }
 },
 "nbformat": 4,
 "nbformat_minor": 2
}
